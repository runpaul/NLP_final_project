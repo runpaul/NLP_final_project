{
 "cells": [
  {
   "cell_type": "code",
   "execution_count": 52,
   "id": "a11bf5e3",
   "metadata": {},
   "outputs": [],
   "source": [
    "import pandas as pd\n",
    "import ast\n",
    "from gensim.models import Word2Vec\n",
    "import os\n",
    "import tensorflow as tf\n",
    "from tensorboard.plugins import projector\n",
    "from sklearn.metrics import confusion_matrix\n",
    "import seaborn as sns\n",
    "import matplotlib.pyplot as plt\n",
    "import gensim\n",
    "from ast import literal_eval\n",
    "from sklearn.model_selection import train_test_split\n",
    "from sklearn.feature_extraction.text import TfidfVectorizer\n",
    "from sklearn.naive_bayes import MultinomialNB\n",
    "from sklearn.metrics import accuracy_score, classification_report\n",
    "from sklearn.pipeline import Pipeline\n",
    "\n"
   ]
  },
  {
   "cell_type": "code",
   "execution_count": 53,
   "id": "7dd4ae94",
   "metadata": {},
   "outputs": [],
   "source": [
    "df = pd.read_csv('clean_avis_v1.csv')\n",
    "del(df['Unnamed: 0'])\n"
   ]
  },
  {
   "cell_type": "code",
   "execution_count": 54,
   "id": "5d0d9d2e",
   "metadata": {
    "scrolled": true
   },
   "outputs": [
    {
     "data": {
      "text/html": [
       "<div>\n",
       "<style scoped>\n",
       "    .dataframe tbody tr th:only-of-type {\n",
       "        vertical-align: middle;\n",
       "    }\n",
       "\n",
       "    .dataframe tbody tr th {\n",
       "        vertical-align: top;\n",
       "    }\n",
       "\n",
       "    .dataframe thead th {\n",
       "        text-align: right;\n",
       "    }\n",
       "</style>\n",
       "<table border=\"1\" class=\"dataframe\">\n",
       "  <thead>\n",
       "    <tr style=\"text-align: right;\">\n",
       "      <th></th>\n",
       "      <th>note</th>\n",
       "      <th>assureur</th>\n",
       "      <th>produit</th>\n",
       "      <th>date_exp</th>\n",
       "      <th>avis_cor</th>\n",
       "      <th>avis_cor_en</th>\n",
       "      <th>avis_clean_fr</th>\n",
       "      <th>avis_clean_en</th>\n",
       "      <th>avis_token_fr</th>\n",
       "      <th>avis_token_en</th>\n",
       "    </tr>\n",
       "  </thead>\n",
       "  <tbody>\n",
       "    <tr>\n",
       "      <th>0</th>\n",
       "      <td>5.0</td>\n",
       "      <td>Direct Assurance</td>\n",
       "      <td>auto</td>\n",
       "      <td>01/09/2021</td>\n",
       "      <td>Meilleurs assurances , prix , solutions , écou...</td>\n",
       "      <td>Best insurance , price , solutions , listening...</td>\n",
       "      <td>meilleurs assurances prix solutions écoute rap...</td>\n",
       "      <td>best insurance price solutions listening speed...</td>\n",
       "      <td>['meilleurs', 'assurances', 'prix', 'solutions...</td>\n",
       "      <td>['best', 'insurance', 'price', 'solutions', 'l...</td>\n",
       "    </tr>\n",
       "    <tr>\n",
       "      <th>1</th>\n",
       "      <td>4.0</td>\n",
       "      <td>Direct Assurance</td>\n",
       "      <td>auto</td>\n",
       "      <td>01/05/2021</td>\n",
       "      <td>je suis globalement satisfait , sauf que vous ...</td>\n",
       "      <td>I am generally satisfied , except that you hav...</td>\n",
       "      <td>globalement satisfait sauf problème site inter...</td>\n",
       "      <td>generally satisfied except problem website imp...</td>\n",
       "      <td>['globalement', 'satisfait', 'sauf', 'problème...</td>\n",
       "      <td>['generally', 'satisfied', 'except', 'problem'...</td>\n",
       "    </tr>\n",
       "    <tr>\n",
       "      <th>2</th>\n",
       "      <td>5.0</td>\n",
       "      <td>Direct Assurance</td>\n",
       "      <td>auto</td>\n",
       "      <td>01/03/2021</td>\n",
       "      <td>Prix tres abordable plusieurs options s'offren...</td>\n",
       "      <td>Very affordable price Several options are avai...</td>\n",
       "      <td>prix tres abordable plusieurs options soffrent...</td>\n",
       "      <td>affordable price several options available us ...</td>\n",
       "      <td>['prix', 'tres', 'abordable', 'plusieurs', 'op...</td>\n",
       "      <td>['affordable', 'price', 'several', 'options', ...</td>\n",
       "    </tr>\n",
       "    <tr>\n",
       "      <th>3</th>\n",
       "      <td>4.0</td>\n",
       "      <td>L'olivier Assurance</td>\n",
       "      <td>auto</td>\n",
       "      <td>01/06/2021</td>\n",
       "      <td>je satisfait du service , une réponse très rap...</td>\n",
       "      <td>I satisfy the service , a very fast response f...</td>\n",
       "      <td>satisfait service réponse très rapide service ...</td>\n",
       "      <td>satisfy service fast response service thank ch...</td>\n",
       "      <td>['satisfait', 'service', 'réponse', 'très', 'r...</td>\n",
       "      <td>['satisfy', 'service', 'fast', 'response', 'se...</td>\n",
       "    </tr>\n",
       "    <tr>\n",
       "      <th>4</th>\n",
       "      <td>1.0</td>\n",
       "      <td>Matmut</td>\n",
       "      <td>auto</td>\n",
       "      <td>01/01/2017</td>\n",
       "      <td>Client depuis plus de 25 ans , très déçu de ce...</td>\n",
       "      <td>Customer for more than 25 years , very disappo...</td>\n",
       "      <td>client depuis plus  ans très déçu cette mutuel...</td>\n",
       "      <td>customer  years disappointed mutual longer mut...</td>\n",
       "      <td>['client', 'depuis', 'ans', 'très', 'déçu', 'm...</td>\n",
       "      <td>['customer', 'years', 'disappointed', 'mutual'...</td>\n",
       "    </tr>\n",
       "  </tbody>\n",
       "</table>\n",
       "</div>"
      ],
      "text/plain": [
       "   note             assureur produit    date_exp  \\\n",
       "0   5.0     Direct Assurance    auto  01/09/2021   \n",
       "1   4.0     Direct Assurance    auto  01/05/2021   \n",
       "2   5.0     Direct Assurance    auto  01/03/2021   \n",
       "3   4.0  L'olivier Assurance    auto  01/06/2021   \n",
       "4   1.0               Matmut    auto  01/01/2017   \n",
       "\n",
       "                                            avis_cor  \\\n",
       "0  Meilleurs assurances , prix , solutions , écou...   \n",
       "1  je suis globalement satisfait , sauf que vous ...   \n",
       "2  Prix tres abordable plusieurs options s'offren...   \n",
       "3  je satisfait du service , une réponse très rap...   \n",
       "4  Client depuis plus de 25 ans , très déçu de ce...   \n",
       "\n",
       "                                         avis_cor_en  \\\n",
       "0  Best insurance , price , solutions , listening...   \n",
       "1  I am generally satisfied , except that you hav...   \n",
       "2  Very affordable price Several options are avai...   \n",
       "3  I satisfy the service , a very fast response f...   \n",
       "4  Customer for more than 25 years , very disappo...   \n",
       "\n",
       "                                       avis_clean_fr  \\\n",
       "0  meilleurs assurances prix solutions écoute rap...   \n",
       "1  globalement satisfait sauf problème site inter...   \n",
       "2  prix tres abordable plusieurs options soffrent...   \n",
       "3  satisfait service réponse très rapide service ...   \n",
       "4  client depuis plus  ans très déçu cette mutuel...   \n",
       "\n",
       "                                       avis_clean_en  \\\n",
       "0  best insurance price solutions listening speed...   \n",
       "1  generally satisfied except problem website imp...   \n",
       "2  affordable price several options available us ...   \n",
       "3  satisfy service fast response service thank ch...   \n",
       "4  customer  years disappointed mutual longer mut...   \n",
       "\n",
       "                                       avis_token_fr  \\\n",
       "0  ['meilleurs', 'assurances', 'prix', 'solutions...   \n",
       "1  ['globalement', 'satisfait', 'sauf', 'problème...   \n",
       "2  ['prix', 'tres', 'abordable', 'plusieurs', 'op...   \n",
       "3  ['satisfait', 'service', 'réponse', 'très', 'r...   \n",
       "4  ['client', 'depuis', 'ans', 'très', 'déçu', 'm...   \n",
       "\n",
       "                                       avis_token_en  \n",
       "0  ['best', 'insurance', 'price', 'solutions', 'l...  \n",
       "1  ['generally', 'satisfied', 'except', 'problem'...  \n",
       "2  ['affordable', 'price', 'several', 'options', ...  \n",
       "3  ['satisfy', 'service', 'fast', 'response', 'se...  \n",
       "4  ['customer', 'years', 'disappointed', 'mutual'...  "
      ]
     },
     "execution_count": 54,
     "metadata": {},
     "output_type": "execute_result"
    }
   ],
   "source": [
    "df.head()"
   ]
  },
  {
   "cell_type": "code",
   "execution_count": 55,
   "id": "d9ce621e",
   "metadata": {},
   "outputs": [],
   "source": [
    "df['avis_token_en'] = df['avis_token_en'].apply(ast.literal_eval)\n",
    "df['avis_token_fr'] = df['avis_token_fr'].apply(ast.literal_eval)"
   ]
  },
  {
   "cell_type": "code",
   "execution_count": 56,
   "id": "63acb25b",
   "metadata": {},
   "outputs": [],
   "source": [
    "\n",
    "\n",
    "model_fr = Word2Vec(sentences=df['avis_token_fr'], vector_size=100, window=20, min_count=200, workers=4)\n",
    "\n",
    "model_fr.save(\"word2vec_model\")\n",
    "\n"
   ]
  },
  {
   "cell_type": "code",
   "execution_count": 57,
   "id": "2548914e",
   "metadata": {},
   "outputs": [],
   "source": [
    "\n",
    "model_en = Word2Vec(sentences=df['avis_token_en'], vector_size=100, window=20, min_count=200, workers=4)\n",
    "\n",
    "model_en.save(\"word2vec_model_en\")\n"
   ]
  },
  {
   "cell_type": "code",
   "execution_count": 11,
   "id": "e47db2e1",
   "metadata": {},
   "outputs": [
    {
     "name": "stdout",
     "output_type": "stream",
     "text": [
      "Exported vectors.tsv and metadata.tsv successfully.\n"
     ]
    }
   ],
   "source": [
    "#Export pour visu Tensorboard\n",
    "vectors = model_fr.wv.vectors\n",
    "words = model_fr.wv.index_to_key\n",
    "\n",
    "metadata_df = pd.DataFrame(words, columns=['Word'])\n",
    "\n",
    "metadata_df.to_csv('metadata.tsv', sep='\\t', index=False,header=False)\n",
    "\n",
    "with open('vectors.tsv', 'w', encoding='utf-8') as f:\n",
    "    for vector in vectors:\n",
    "        vector_line = '\\t'.join(str(value) for value in vector)\n",
    "        f.write(f\"{vector_line}\\n\")\n",
    "\n",
    "print(\"Exported vectors.tsv and metadata.tsv successfully.\")"
   ]
  },
  {
   "cell_type": "code",
   "execution_count": null,
   "id": "6cdf4805",
   "metadata": {},
   "outputs": [],
   "source": [
    "import matplotlib.pyplot as plt\n",
    "\n",
    "model = Word2Vec(sentences=df['avis_tokenized'], vector_size=100, window=20, min_count=200, workers=4)\n",
    "\n",
    "vocab = []\n",
    "for i in range(0,len(model.wv)):\n",
    "        vocab.append(model.wv.index_to_key[i])\n",
    "\n",
    "\n",
    "\n",
    "def tsne_plot(model):\n",
    "    \"Creates and TSNE model and plots it\"\n",
    "    labels = []\n",
    "    tokens = []\n",
    "\n",
    "    for word in vocab:\n",
    "        tokens.append(model.wv[word])\n",
    "        labels.append(word)\n",
    "        #print(tokens)\n",
    "        #print(labels)\n",
    "    tokens = np.array(tokens)\n",
    "    tsne_model = TSNE(perplexity=40, n_components=2, init='pca', n_iter=2500, random_state=23)\n",
    "    new_values = tsne_model.fit_transform(tokens)\n",
    "\n",
    "\n",
    "    \n",
    "    x = []\n",
    "    y = []\n",
    "    for value in new_values:\n",
    "        x.append(value[0])\n",
    "        y.append(value[1])\n",
    "    \n",
    "    \n",
    "    \n",
    "    plt.figure(figsize=(16, 16)) \n",
    "    for i in range(len(x)):\n",
    "        plt.scatter(x[i],y[i])\n",
    "        plt.annotate(labels[i],\n",
    "                     xy=(x[i], y[i]),\n",
    "                     xytext=(5, 2),\n",
    "                     textcoords='offset points',\n",
    "                     ha='right',\n",
    "                     va='bottom')\n",
    "    plt.show()\n",
    "    \n",
    "\n",
    "tsne_plot(model)\n"
   ]
  },
  {
   "cell_type": "code",
   "execution_count": 50,
   "id": "9486929f",
   "metadata": {},
   "outputs": [],
   "source": [
    "def cosine_similarity(word1,word2):\n",
    "    \n",
    "    return model_fr.wv.similarity(word1,word2)"
   ]
  },
  {
   "cell_type": "code",
   "execution_count": 58,
   "id": "fc7e266b",
   "metadata": {},
   "outputs": [],
   "source": [
    "def most_similar_words(word, model, topn=5):\n",
    "    try:\n",
    "        similar_words = model.wv.most_similar(word, topn=topn)\n",
    "        return similar_words\n",
    "    except KeyError:\n",
    "        return f\"The word '{word}' is not in the vocabulary.\"\n"
   ]
  },
  {
   "cell_type": "code",
   "execution_count": 61,
   "id": "a80b83af",
   "metadata": {},
   "outputs": [
    {
     "data": {
      "text/plain": [
       "[('vehicule', 0.8452456593513489),\n",
       " ('garage', 0.7874598503112793),\n",
       " ('lassistance', 0.7833312749862671),\n",
       " ('risque', 0.7790943384170532),\n",
       " ('panne', 0.7755792140960693)]"
      ]
     },
     "execution_count": 61,
     "metadata": {},
     "output_type": "execute_result"
    }
   ],
   "source": [
    "most_similar_words(\"voiture\", model_fr)"
   ]
  },
  {
   "cell_type": "code",
   "execution_count": 62,
   "id": "68518f9a",
   "metadata": {},
   "outputs": [
    {
     "data": {
      "text/plain": [
       "0.36168456"
      ]
     },
     "execution_count": 62,
     "metadata": {},
     "output_type": "execute_result"
    }
   ],
   "source": [
    "cosine_similarity('assurance','voiture')"
   ]
  },
  {
   "cell_type": "code",
   "execution_count": 126,
   "id": "85d52132",
   "metadata": {},
   "outputs": [
    {
     "name": "stdout",
     "output_type": "stream",
     "text": [
      "Accuracy: 0.52\n",
      "Classification Report:\n",
      "               precision    recall  f1-score   support\n",
      "\n",
      "         1.0       0.55      0.96      0.70      1398\n",
      "         2.0       0.51      0.03      0.06       754\n",
      "         3.0       0.36      0.05      0.08       664\n",
      "         4.0       0.45      0.45      0.45       951\n",
      "         5.0       0.54      0.68      0.60       935\n",
      "\n",
      "    accuracy                           0.52      4702\n",
      "   macro avg       0.48      0.43      0.38      4702\n",
      "weighted avg       0.49      0.52      0.44      4702\n",
      "\n"
     ]
    }
   ],
   "source": [
    "\n",
    "\n",
    "df['avis_tokenized_str'] = df['avis_tokenized'].apply(lambda tokens: ' '.join(tokens))\n",
    "X_train, X_test, y_train, y_test = train_test_split(\n",
    "    df['avis_tokenized_str'], df['note'], test_size=0.2, random_state=42\n",
    ")\n",
    "\n",
    "tfidf_vectorizer = TfidfVectorizer(max_features=5000)  \n",
    "classifier = MultinomialNB()\n",
    "\n",
    "model = Pipeline([\n",
    "    ('tfidf', tfidf_vectorizer),\n",
    "    ('classifier', classifier)\n",
    "])\n",
    "\n",
    "model.fit(X_train, y_train)\n",
    "\n",
    "y_pred = model.predict(X_test)\n",
    "\n",
    "accuracy = accuracy_score(y_test, y_pred)\n",
    "classification_rep = classification_report(y_test, y_pred)\n",
    "print(f\"Accuracy: {accuracy:.2f}\")\n",
    "print(\"Classification Report:\\n\", classification_rep)\n"
   ]
  },
  {
   "cell_type": "code",
   "execution_count": 128,
   "id": "601b6c04",
   "metadata": {
    "scrolled": false
   },
   "outputs": [
    {
     "data": {
      "image/png": "[encoded data removed]",
      "text/plain": [
       "<Figure size 800x600 with 2 Axes>"
      ]
     },
     "metadata": {},
     "output_type": "display_data"
    }
   ],
   "source": [
    "\n",
    "\n",
    "cm = confusion_matrix(y_test, y_pred)\n",
    "\n",
    "plt.figure(figsize=(8, 6))\n",
    "sns.heatmap(cm, annot=True, fmt='d', cmap='Blues', xticklabels=sorted(df['note'].unique()), yticklabels=sorted(df['note'].unique()))\n",
    "plt.title('Confusion Matrix')\n",
    "plt.xlabel('Predicted')\n",
    "plt.ylabel('True')\n",
    "plt.show()"
   ]
  }
 ],
 "metadata": {
  "kernelspec": {
   "display_name": "Python 3 (ipykernel)",
   "language": "python",
   "name": "python3"
  },
  "language_info": {
   "codemirror_mode": {
    "name": "ipython",
    "version": 3
   },
   "file_extension": ".py",
   "mimetype": "text/x-python",
   "name": "python",
   "nbconvert_exporter": "python",
   "pygments_lexer": "ipython3",
   "version": "3.11.5"
  }
 },
 "nbformat": 4,
 "nbformat_minor": 5
}
