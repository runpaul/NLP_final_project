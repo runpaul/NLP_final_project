{
 "cells": [
  {
   "cell_type": "code",
   "execution_count": 18,
   "id": "74c87975",
   "metadata": {},
   "outputs": [],
   "source": [
    "import pandas as pd\n",
    "from sklearn.model_selection import train_test_split\n",
    "from sklearn.feature_extraction.text import TfidfVectorizer\n",
    "from sklearn.naive_bayes import MultinomialNB\n",
    "from sklearn.metrics import accuracy_score, classification_report\n",
    "from sklearn.pipeline import Pipeline\n",
    "import ast\n",
    "from keras.callbacks import ModelCheckpoint\n",
    "from keras.callbacks import EarlyStopping\n",
    "from keras.models import load_model\n",
    "import pandas as pd\n",
    "from sklearn.model_selection import train_test_split\n",
    "from sklearn.preprocessing import LabelEncoder\n",
    "from sklearn.metrics import accuracy_score, classification_report\n",
    "import tensorflow as tf\n",
    "import tensorflow_hub as hub\n",
    "from tensorflow.keras.callbacks import EarlyStopping, ModelCheckpoint\n",
    "from sklearn.metrics import confusion_matrix\n",
    "import seaborn as sns\n",
    "import matplotlib.pyplot as plt"
   ]
  },
  {
   "cell_type": "code",
   "execution_count": 2,
   "id": "e3fde2e6",
   "metadata": {},
   "outputs": [],
   "source": [
    "df = pd.read_csv('clean_avis_v1.csv')\n",
    "del(df['Unnamed: 0'])\n",
    "df['avis_token_en'] = df['avis_token_en'].apply(ast.literal_eval)\n",
    "df['avis_token_fr'] = df['avis_token_fr'].apply(ast.literal_eval)\n",
    "\n"
   ]
  },
  {
   "cell_type": "code",
   "execution_count": 6,
   "id": "5aefeb4b",
   "metadata": {},
   "outputs": [],
   "source": [
    "df.dropna(inplace=True)"
   ]
  },
  {
   "cell_type": "code",
   "execution_count": 3,
   "id": "c3fbebc4",
   "metadata": {},
   "outputs": [
    {
     "data": {
      "text/html": [
       "<div>\n",
       "<style scoped>\n",
       "    .dataframe tbody tr th:only-of-type {\n",
       "        vertical-align: middle;\n",
       "    }\n",
       "\n",
       "    .dataframe tbody tr th {\n",
       "        vertical-align: top;\n",
       "    }\n",
       "\n",
       "    .dataframe thead th {\n",
       "        text-align: right;\n",
       "    }\n",
       "</style>\n",
       "<table border=\"1\" class=\"dataframe\">\n",
       "  <thead>\n",
       "    <tr style=\"text-align: right;\">\n",
       "      <th></th>\n",
       "      <th>note</th>\n",
       "      <th>assureur</th>\n",
       "      <th>produit</th>\n",
       "      <th>date_exp</th>\n",
       "      <th>avis_cor</th>\n",
       "      <th>avis_cor_en</th>\n",
       "      <th>avis_clean_fr</th>\n",
       "      <th>avis_clean_en</th>\n",
       "      <th>avis_token_fr</th>\n",
       "      <th>avis_token_en</th>\n",
       "    </tr>\n",
       "  </thead>\n",
       "  <tbody>\n",
       "    <tr>\n",
       "      <th>0</th>\n",
       "      <td>5.0</td>\n",
       "      <td>Direct Assurance</td>\n",
       "      <td>auto</td>\n",
       "      <td>01/09/2021</td>\n",
       "      <td>Meilleurs assurances , prix , solutions , écou...</td>\n",
       "      <td>Best insurance , price , solutions , listening...</td>\n",
       "      <td>meilleurs assurances prix solutions écoute rap...</td>\n",
       "      <td>best insurance price solutions listening speed...</td>\n",
       "      <td>[meilleurs, assurances, prix, solutions, écout...</td>\n",
       "      <td>[best, insurance, price, solutions, listening,...</td>\n",
       "    </tr>\n",
       "    <tr>\n",
       "      <th>1</th>\n",
       "      <td>4.0</td>\n",
       "      <td>Direct Assurance</td>\n",
       "      <td>auto</td>\n",
       "      <td>01/05/2021</td>\n",
       "      <td>je suis globalement satisfait , sauf que vous ...</td>\n",
       "      <td>I am generally satisfied , except that you hav...</td>\n",
       "      <td>globalement satisfait sauf problème site inter...</td>\n",
       "      <td>generally satisfied except problem website imp...</td>\n",
       "      <td>[globalement, satisfait, sauf, problème, site,...</td>\n",
       "      <td>[generally, satisfied, except, problem, websit...</td>\n",
       "    </tr>\n",
       "    <tr>\n",
       "      <th>2</th>\n",
       "      <td>5.0</td>\n",
       "      <td>Direct Assurance</td>\n",
       "      <td>auto</td>\n",
       "      <td>01/03/2021</td>\n",
       "      <td>Prix tres abordable plusieurs options s'offren...</td>\n",
       "      <td>Very affordable price Several options are avai...</td>\n",
       "      <td>prix tres abordable plusieurs options soffrent...</td>\n",
       "      <td>affordable price several options available us ...</td>\n",
       "      <td>[prix, tres, abordable, plusieurs, options, so...</td>\n",
       "      <td>[affordable, price, several, options, availabl...</td>\n",
       "    </tr>\n",
       "    <tr>\n",
       "      <th>3</th>\n",
       "      <td>4.0</td>\n",
       "      <td>L'olivier Assurance</td>\n",
       "      <td>auto</td>\n",
       "      <td>01/06/2021</td>\n",
       "      <td>je satisfait du service , une réponse très rap...</td>\n",
       "      <td>I satisfy the service , a very fast response f...</td>\n",
       "      <td>satisfait service réponse très rapide service ...</td>\n",
       "      <td>satisfy service fast response service thank ch...</td>\n",
       "      <td>[satisfait, service, réponse, très, rapide, se...</td>\n",
       "      <td>[satisfy, service, fast, response, service, th...</td>\n",
       "    </tr>\n",
       "    <tr>\n",
       "      <th>4</th>\n",
       "      <td>1.0</td>\n",
       "      <td>Matmut</td>\n",
       "      <td>auto</td>\n",
       "      <td>01/01/2017</td>\n",
       "      <td>Client depuis plus de 25 ans , très déçu de ce...</td>\n",
       "      <td>Customer for more than 25 years , very disappo...</td>\n",
       "      <td>client depuis plus  ans très déçu cette mutuel...</td>\n",
       "      <td>customer  years disappointed mutual longer mut...</td>\n",
       "      <td>[client, depuis, ans, très, déçu, mutuelle, ri...</td>\n",
       "      <td>[customer, years, disappointed, mutual, longer...</td>\n",
       "    </tr>\n",
       "  </tbody>\n",
       "</table>\n",
       "</div>"
      ],
      "text/plain": [
       "   note             assureur produit    date_exp  \\\n",
       "0   5.0     Direct Assurance    auto  01/09/2021   \n",
       "1   4.0     Direct Assurance    auto  01/05/2021   \n",
       "2   5.0     Direct Assurance    auto  01/03/2021   \n",
       "3   4.0  L'olivier Assurance    auto  01/06/2021   \n",
       "4   1.0               Matmut    auto  01/01/2017   \n",
       "\n",
       "                                            avis_cor  \\\n",
       "0  Meilleurs assurances , prix , solutions , écou...   \n",
       "1  je suis globalement satisfait , sauf que vous ...   \n",
       "2  Prix tres abordable plusieurs options s'offren...   \n",
       "3  je satisfait du service , une réponse très rap...   \n",
       "4  Client depuis plus de 25 ans , très déçu de ce...   \n",
       "\n",
       "                                         avis_cor_en  \\\n",
       "0  Best insurance , price , solutions , listening...   \n",
       "1  I am generally satisfied , except that you hav...   \n",
       "2  Very affordable price Several options are avai...   \n",
       "3  I satisfy the service , a very fast response f...   \n",
       "4  Customer for more than 25 years , very disappo...   \n",
       "\n",
       "                                       avis_clean_fr  \\\n",
       "0  meilleurs assurances prix solutions écoute rap...   \n",
       "1  globalement satisfait sauf problème site inter...   \n",
       "2  prix tres abordable plusieurs options soffrent...   \n",
       "3  satisfait service réponse très rapide service ...   \n",
       "4  client depuis plus  ans très déçu cette mutuel...   \n",
       "\n",
       "                                       avis_clean_en  \\\n",
       "0  best insurance price solutions listening speed...   \n",
       "1  generally satisfied except problem website imp...   \n",
       "2  affordable price several options available us ...   \n",
       "3  satisfy service fast response service thank ch...   \n",
       "4  customer  years disappointed mutual longer mut...   \n",
       "\n",
       "                                       avis_token_fr  \\\n",
       "0  [meilleurs, assurances, prix, solutions, écout...   \n",
       "1  [globalement, satisfait, sauf, problème, site,...   \n",
       "2  [prix, tres, abordable, plusieurs, options, so...   \n",
       "3  [satisfait, service, réponse, très, rapide, se...   \n",
       "4  [client, depuis, ans, très, déçu, mutuelle, ri...   \n",
       "\n",
       "                                       avis_token_en  \n",
       "0  [best, insurance, price, solutions, listening,...  \n",
       "1  [generally, satisfied, except, problem, websit...  \n",
       "2  [affordable, price, several, options, availabl...  \n",
       "3  [satisfy, service, fast, response, service, th...  \n",
       "4  [customer, years, disappointed, mutual, longer...  "
      ]
     },
     "execution_count": 3,
     "metadata": {},
     "output_type": "execute_result"
    }
   ],
   "source": [
    "df.head()"
   ]
  },
  {
   "cell_type": "markdown",
   "id": "c4b2790d",
   "metadata": {},
   "source": [
    "# TF-IDF"
   ]
  },
  {
   "cell_type": "code",
   "execution_count": 7,
   "id": "32afdc8e",
   "metadata": {},
   "outputs": [
    {
     "name": "stdout",
     "output_type": "stream",
     "text": [
      "Accuracy: 0.53\n",
      "Classification Report:\n",
      "               precision    recall  f1-score   support\n",
      "\n",
      "         1.0       0.56      0.96      0.71      1441\n",
      "         2.0       0.34      0.03      0.05       691\n",
      "         3.0       0.29      0.04      0.07       665\n",
      "         4.0       0.45      0.43      0.44       979\n",
      "         5.0       0.53      0.67      0.59       926\n",
      "\n",
      "    accuracy                           0.53      4702\n",
      "   macro avg       0.44      0.43      0.37      4702\n",
      "weighted avg       0.46      0.53      0.44      4702\n",
      "\n"
     ]
    }
   ],
   "source": [
    "\n",
    "\n",
    "\n",
    "X_train, X_test, y_train, y_test = train_test_split(\n",
    "    df['avis_clean_en'], df['note'], test_size=0.2, random_state=42\n",
    ")\n",
    "\n",
    "tfidf_vectorizer = TfidfVectorizer(max_features=5000) \n",
    "classifier = MultinomialNB()\n",
    "\n",
    "model = Pipeline([\n",
    "    ('tfidf', tfidf_vectorizer),\n",
    "    ('classifier', classifier)\n",
    "])\n",
    "\n",
    "model.fit(X_train, y_train)\n",
    "y_pred = model.predict(X_test)\n",
    "accuracy = accuracy_score(y_test, y_pred)\n",
    "classification_rep = classification_report(y_test, y_pred)\n",
    "\n",
    "print(f\"Accuracy: {accuracy:.2f}\")\n",
    "print(\"Classification Report:\\n\", classification_rep)\n",
    "\n"
   ]
  },
  {
   "cell_type": "code",
   "execution_count": 8,
   "id": "a336094a",
   "metadata": {
    "scrolled": true
   },
   "outputs": [
    {
     "data": {
      "image/png": "[encoded data removed]",
      "text/plain": [
       "<Figure size 800x600 with 2 Axes>"
      ]
     },
     "metadata": {},
     "output_type": "display_data"
    }
   ],
   "source": [
    "\n",
    "\n",
    "cm = confusion_matrix(y_test, y_pred)\n",
    "\n",
    "plt.figure(figsize=(8, 6))\n",
    "sns.heatmap(cm, annot=True, fmt='d', cmap='Blues', xticklabels=sorted(df['note'].unique()), yticklabels=sorted(df['note'].unique()))\n",
    "plt.title('Confusion Matrix')\n",
    "plt.xlabel('Predicted')\n",
    "plt.ylabel('True')\n",
    "plt.show()"
   ]
  },
  {
   "cell_type": "markdown",
   "id": "5934b5b9",
   "metadata": {},
   "source": [
    "## Embedding layer"
   ]
  },
  {
   "cell_type": "code",
   "execution_count": 22,
   "id": "32f7b6ec",
   "metadata": {},
   "outputs": [
    {
     "name": "stdout",
     "output_type": "stream",
     "text": [
      "Epoch 1/50\n",
      "586/588 [============================>.] - ETA: 0s - loss: 1.1986 - accuracy: 0.4681\n",
      "Epoch 1: val_accuracy improved from -inf to 0.50510, saving model to best_model.h5\n",
      "588/588 [==============================] - 11s 18ms/step - loss: 1.1984 - accuracy: 0.4683 - val_loss: 1.1153 - val_accuracy: 0.5051\n",
      "Epoch 2/50\n",
      "  5/588 [..............................] - ETA: 9s - loss: 1.1868 - accuracy: 0.4375"
     ]
    },
    {
     "name": "stderr",
     "output_type": "stream",
     "text": [
      "C:\\Users\\paulr\\anaconda3\\Lib\\site-packages\\keras\\src\\engine\\training.py:3103: UserWarning: You are saving your model as an HDF5 file via `model.save()`. This file format is considered legacy. We recommend using instead the native Keras format, e.g. `model.save('my_model.keras')`.\n",
      "  saving_api.save_model(\n"
     ]
    },
    {
     "name": "stdout",
     "output_type": "stream",
     "text": [
      "586/588 [============================>.] - ETA: 0s - loss: 1.0732 - accuracy: 0.5114\n",
      "Epoch 2: val_accuracy improved from 0.50510 to 0.51531, saving model to best_model.h5\n",
      "588/588 [==============================] - 10s 17ms/step - loss: 1.0737 - accuracy: 0.5111 - val_loss: 1.1003 - val_accuracy: 0.5153\n",
      "Epoch 3/50\n",
      "585/588 [============================>.] - ETA: 0s - loss: 1.0037 - accuracy: 0.5527\n",
      "Epoch 3: val_accuracy did not improve from 0.51531\n",
      "588/588 [==============================] - 10s 17ms/step - loss: 1.0040 - accuracy: 0.5525 - val_loss: 1.1127 - val_accuracy: 0.5026\n",
      "Epoch 4/50\n",
      "586/588 [============================>.] - ETA: 0s - loss: 0.8981 - accuracy: 0.6119\n",
      "Epoch 4: val_accuracy did not improve from 0.51531\n",
      "588/588 [==============================] - 10s 17ms/step - loss: 0.8980 - accuracy: 0.6119 - val_loss: 1.1608 - val_accuracy: 0.4798\n",
      "Epoch 5/50\n",
      "587/588 [============================>.] - ETA: 0s - loss: 0.7803 - accuracy: 0.6721\n",
      "Epoch 5: val_accuracy did not improve from 0.51531\n",
      "588/588 [==============================] - 10s 16ms/step - loss: 0.7803 - accuracy: 0.6722 - val_loss: 1.2855 - val_accuracy: 0.4866\n",
      "Epoch 6/50\n",
      "587/588 [============================>.] - ETA: 0s - loss: 0.6597 - accuracy: 0.7257\n",
      "Epoch 6: val_accuracy did not improve from 0.51531\n",
      "588/588 [==============================] - 10s 16ms/step - loss: 0.6596 - accuracy: 0.7257 - val_loss: 1.4070 - val_accuracy: 0.4679\n",
      "Epoch 7/50\n",
      "587/588 [============================>.] - ETA: 0s - loss: 0.5581 - accuracy: 0.7723\n",
      "Epoch 7: val_accuracy did not improve from 0.51531\n",
      "588/588 [==============================] - 10s 17ms/step - loss: 0.5581 - accuracy: 0.7723 - val_loss: 1.5822 - val_accuracy: 0.4672\n",
      "147/147 [==============================] - 0s 3ms/step\n",
      "Accuracy: 0.47\n",
      "Classification Report:\n",
      "               precision    recall  f1-score   support\n",
      "\n",
      "         1.0       0.59      0.73      0.65      1441\n",
      "         2.0       0.26      0.18      0.21       691\n",
      "         3.0       0.25      0.15      0.19       665\n",
      "         4.0       0.42      0.48      0.45       979\n",
      "         5.0       0.50      0.48      0.49       926\n",
      "\n",
      "    accuracy                           0.47      4702\n",
      "   macro avg       0.40      0.41      0.40      4702\n",
      "weighted avg       0.44      0.47      0.45      4702\n",
      "\n"
     ]
    }
   ],
   "source": [
    "import pandas as pd\n",
    "from sklearn.model_selection import train_test_split\n",
    "from sklearn.preprocessing import LabelEncoder\n",
    "from tensorflow.keras.preprocessing.text import Tokenizer\n",
    "from sklearn.metrics import accuracy_score, classification_report\n",
    "from tensorflow.keras.models import Sequential\n",
    "from tensorflow.keras.layers import Embedding, Flatten, Dense\n",
    "from tensorflow.keras.preprocessing.sequence import pad_sequences\n",
    "\n",
    "\n",
    "X_train, X_test, y_train, y_test = train_test_split(\n",
    "    df['avis_clean_en'], df['note'], test_size=0.2, random_state=42\n",
    ")\n",
    "\n",
    "label_encoder = LabelEncoder()\n",
    "y_train_encoded = label_encoder.fit_transform(y_train)\n",
    "y_test_encoded = label_encoder.transform(y_test)\n",
    "\n",
    "max_words = 620  \n",
    "tokenizer = Tokenizer(num_words=max_words, oov_token=\"<OOV>\")\n",
    "tokenizer.fit_on_texts(X_train)\n",
    "\n",
    "X_train_sequences = tokenizer.texts_to_sequences(X_train)\n",
    "X_test_sequences = tokenizer.texts_to_sequences(X_test)\n",
    "\n",
    "max_sequence_length = max(len(seq) for seq in X_train_sequences)\n",
    "X_train_padded = pad_sequences(X_train_sequences, maxlen=max_sequence_length, padding='post')\n",
    "X_test_padded = pad_sequences(X_test_sequences, maxlen=max_sequence_length, padding='post')\n",
    "\n",
    "embedding_dim = 50  \n",
    "model = Sequential([\n",
    "    Embedding(input_dim=max_words, output_dim=embedding_dim, input_length=max_sequence_length),\n",
    "    Flatten(),\n",
    "    Dense(64, activation='relu'),\n",
    "    Dense(len(label_encoder.classes_), activation='softmax')\n",
    "])\n",
    "\n",
    "model.compile(optimizer='adam', loss='sparse_categorical_crossentropy', metrics=['accuracy'])\n",
    "\n",
    "es = EarlyStopping(monitor='val_accuracy', mode='auto', verbose=0,patience=5)\n",
    "mc = ModelCheckpoint('best_model.h5', monitor='val_accuracy', mode='max', verbose=1, save_best_only=True)\n",
    "model.compile(optimizer='adam', loss ='sparse_categorical_crossentropy', metrics = ['accuracy'])\n",
    "history =model.fit(X_train_padded, y_train_encoded, epochs=50, validation_data=(X_test_padded, y_test_encoded),callbacks=[es, mc])\n",
    "\n",
    "\n",
    "y_pred_prob = model.predict(X_test_padded)\n",
    "y_pred = y_pred_prob.argmax(axis=-1)\n",
    "y_pred_labels = label_encoder.inverse_transform(y_pred)\n",
    "\n",
    "accuracy = accuracy_score(y_test, y_pred_labels)\n",
    "classification_rep = classification_report(y_test, y_pred_labels)\n",
    "\n",
    "print(f\"Accuracy: {accuracy:.2f}\")\n",
    "print(\"Classification Report:\\n\", classification_rep)\n"
   ]
  },
  {
   "cell_type": "code",
   "execution_count": 23,
   "id": "444bc68d",
   "metadata": {
    "scrolled": false
   },
   "outputs": [
    {
     "data": {
      "image/png": "[encoded data removed]",
      "text/plain": [
       "<Figure size 800x600 with 2 Axes>"
      ]
     },
     "metadata": {},
     "output_type": "display_data"
    }
   ],
   "source": [
    "\n",
    "cm = confusion_matrix(y_test, y_pred_labels)\n",
    "\n",
    "\n",
    "plt.figure(figsize=(8, 6))\n",
    "sns.heatmap(cm, annot=True, fmt='d', cmap='Blues', xticklabels=sorted(df['note'].unique()), yticklabels=sorted(df['note'].unique()))\n",
    "plt.title('Confusion Matrix')\n",
    "plt.xlabel('Predicted')\n",
    "plt.ylabel('True')\n",
    "plt.show()"
   ]
  },
  {
   "cell_type": "markdown",
   "id": "220bee85",
   "metadata": {},
   "source": [
    "# Pre-trained embedding layer"
   ]
  },
  {
   "cell_type": "code",
   "execution_count": 39,
   "id": "79c4c829",
   "metadata": {},
   "outputs": [
    {
     "name": "stdout",
     "output_type": "stream",
     "text": [
      "Epoch 1/50\n",
      "586/588 [============================>.] - ETA: 0s - loss: 1.2463 - accuracy: 0.4560\n",
      "Epoch 1: val_accuracy improved from -inf to 0.47235, saving model to best_model.h5\n",
      "588/588 [==============================] - 11s 18ms/step - loss: 1.2467 - accuracy: 0.4556 - val_loss: 1.1877 - val_accuracy: 0.4724\n",
      "Epoch 2/50\n",
      "  8/588 [..............................] - ETA: 9s - loss: 1.1681 - accuracy: 0.4922"
     ]
    },
    {
     "name": "stderr",
     "output_type": "stream",
     "text": [
      "C:\\Users\\paulr\\anaconda3\\Lib\\site-packages\\keras\\src\\engine\\training.py:3103: UserWarning: You are saving your model as an HDF5 file via `model.save()`. This file format is considered legacy. We recommend using instead the native Keras format, e.g. `model.save('my_model.keras')`.\n",
      "  saving_api.save_model(\n"
     ]
    },
    {
     "name": "stdout",
     "output_type": "stream",
     "text": [
      "587/588 [============================>.] - ETA: 0s - loss: 1.1114 - accuracy: 0.5147\n",
      "Epoch 2: val_accuracy improved from 0.47235 to 0.50298, saving model to best_model.h5\n",
      "588/588 [==============================] - 11s 19ms/step - loss: 1.1114 - accuracy: 0.5147 - val_loss: 1.1378 - val_accuracy: 0.5030\n",
      "Epoch 3/50\n",
      "585/588 [============================>.] - ETA: 0s - loss: 1.0361 - accuracy: 0.5495\n",
      "Epoch 3: val_accuracy did not improve from 0.50298\n",
      "588/588 [==============================] - 12s 20ms/step - loss: 1.0365 - accuracy: 0.5493 - val_loss: 1.1561 - val_accuracy: 0.4921\n",
      "Epoch 4/50\n",
      "587/588 [============================>.] - ETA: 0s - loss: 0.9640 - accuracy: 0.5843\n",
      "Epoch 4: val_accuracy did not improve from 0.50298\n",
      "588/588 [==============================] - 12s 20ms/step - loss: 0.9640 - accuracy: 0.5842 - val_loss: 1.1951 - val_accuracy: 0.4834\n",
      "Epoch 5/50\n",
      "585/588 [============================>.] - ETA: 0s - loss: 0.8786 - accuracy: 0.6253\n",
      "Epoch 5: val_accuracy did not improve from 0.50298\n",
      "588/588 [==============================] - 11s 19ms/step - loss: 0.8791 - accuracy: 0.6252 - val_loss: 1.2336 - val_accuracy: 0.4853\n",
      "Epoch 6/50\n",
      "586/588 [============================>.] - ETA: 0s - loss: 0.7991 - accuracy: 0.6650\n",
      "Epoch 6: val_accuracy did not improve from 0.50298\n",
      "588/588 [==============================] - 12s 20ms/step - loss: 0.7989 - accuracy: 0.6652 - val_loss: 1.3468 - val_accuracy: 0.4547\n",
      "Epoch 7/50\n",
      "586/588 [============================>.] - ETA: 0s - loss: 0.7238 - accuracy: 0.7035\n",
      "Epoch 7: val_accuracy did not improve from 0.50298\n",
      "588/588 [==============================] - 13s 23ms/step - loss: 0.7237 - accuracy: 0.7035 - val_loss: 1.4028 - val_accuracy: 0.4470\n",
      "147/147 [==============================] - 1s 6ms/step\n",
      "Accuracy: 0.45\n",
      "Classification Report:\n",
      "               precision    recall  f1-score   support\n",
      "\n",
      "         1.0       0.62      0.66      0.64      1441\n",
      "         2.0       0.27      0.21      0.24       691\n",
      "         3.0       0.24      0.29      0.26       665\n",
      "         4.0       0.39      0.47      0.43       979\n",
      "         5.0       0.52      0.38      0.44       926\n",
      "\n",
      "    accuracy                           0.45      4702\n",
      "   macro avg       0.41      0.40      0.40      4702\n",
      "weighted avg       0.45      0.45      0.44      4702\n",
      "\n"
     ]
    }
   ],
   "source": [
    "\n",
    "\n",
    "X_train, X_test, y_train, y_test = train_test_split(\n",
    "    df['avis_clean_en'], df['note'], test_size=0.2, random_state=42\n",
    ")\n",
    "\n",
    "label_encoder = LabelEncoder()\n",
    "y_train_encoded = label_encoder.fit_transform(y_train)\n",
    "y_test_encoded = label_encoder.transform(y_test)\n",
    "\n",
    "max_words = 5000\n",
    "tokenizer = Tokenizer(num_words=max_words, oov_token=\"<OOV>\")\n",
    "tokenizer.fit_on_texts(X_train)\n",
    "\n",
    "X_train_sequences = tokenizer.texts_to_sequences(X_train)\n",
    "X_test_sequences = tokenizer.texts_to_sequences(X_test)\n",
    "\n",
    "max_sequence_length = max(len(seq) for seq in X_train_sequences)\n",
    "X_train_padded = pad_sequences(X_train_sequences, maxlen=max_sequence_length, padding='post')\n",
    "X_test_padded = pad_sequences(X_test_sequences, maxlen=max_sequence_length, padding='post')\n",
    "\n",
    "embedding_dim = 50\n",
    "embedding_matrix = np.zeros((max_words, embedding_dim))\n",
    "\n",
    "glove_path = 'glove.6B.50d.txt'\n",
    "\n",
    "with open(glove_path, 'r', encoding='utf-8') as glove_file:\n",
    "    for line in glove_file:\n",
    "        values = line.split()\n",
    "        word = values[0]\n",
    "        if word in tokenizer.word_index and tokenizer.word_index[word] < max_words:\n",
    "            embedding_matrix[tokenizer.word_index[word]] = np.array(values[1:], dtype='float32')\n",
    "\n",
    "model = Sequential([\n",
    "    Embedding(input_dim=max_words, output_dim=embedding_dim, weights=[embedding_matrix], \n",
    "              input_length=max_sequence_length, trainable=False),\n",
    "    Conv1D(128, 5, activation='relu'),\n",
    "    GlobalMaxPooling1D(),\n",
    "    Dense(64, activation='relu'),\n",
    "    Dense(len(label_encoder.classes_), activation='softmax')\n",
    "])\n",
    "\n",
    "model.compile(optimizer='adam', loss='sparse_categorical_crossentropy', metrics=['accuracy'])\n",
    "\n",
    "es = EarlyStopping(monitor='val_accuracy', mode='auto', verbose=0,patience=5)\n",
    "mc = ModelCheckpoint('best_model.h5', monitor='val_accuracy', mode='max', verbose=1, save_best_only=True)\n",
    "model.compile(optimizer='adam', loss ='sparse_categorical_crossentropy', metrics = ['accuracy'])\n",
    "history =model.fit(X_train_padded, y_train_encoded, epochs=50, validation_data=(X_test_padded, y_test_encoded),callbacks=[es, mc])\n",
    "\n",
    "y_pred_prob = model.predict(X_test_padded)\n",
    "y_pred = y_pred_prob.argmax(axis=-1)\n",
    "y_pred_labels = label_encoder.inverse_transform(y_pred)\n",
    "\n",
    "accuracy = accuracy_score(y_test, y_pred_labels)\n",
    "classification_rep = classification_report(y_test, y_pred_labels)\n",
    "\n",
    "print(f\"Accuracy: {accuracy:.2f}\")\n",
    "print(\"Classification Report:\\n\", classification_rep)\n"
   ]
  },
  {
   "cell_type": "code",
   "execution_count": 54,
   "id": "44c53f2b",
   "metadata": {
    "scrolled": false
   },
   "outputs": [
    {
     "ename": "ValueError",
     "evalue": "Found input variables with inconsistent numbers of samples: [4701, 4702]",
     "output_type": "error",
     "traceback": [
      "\u001b[1;31m---------------------------------------------------------------------------\u001b[0m",
      "\u001b[1;31mValueError\u001b[0m                                Traceback (most recent call last)",
      "Cell \u001b[1;32mIn[54], line 1\u001b[0m\n\u001b[1;32m----> 1\u001b[0m cm \u001b[38;5;241m=\u001b[39m confusion_matrix(y_test, y_pred_labels)\n\u001b[0;32m      4\u001b[0m plt\u001b[38;5;241m.\u001b[39mfigure(figsize\u001b[38;5;241m=\u001b[39m(\u001b[38;5;241m8\u001b[39m, \u001b[38;5;241m6\u001b[39m))\n\u001b[0;32m      5\u001b[0m sns\u001b[38;5;241m.\u001b[39mheatmap(cm, annot\u001b[38;5;241m=\u001b[39m\u001b[38;5;28;01mTrue\u001b[39;00m, fmt\u001b[38;5;241m=\u001b[39m\u001b[38;5;124m'\u001b[39m\u001b[38;5;124md\u001b[39m\u001b[38;5;124m'\u001b[39m, cmap\u001b[38;5;241m=\u001b[39m\u001b[38;5;124m'\u001b[39m\u001b[38;5;124mBlues\u001b[39m\u001b[38;5;124m'\u001b[39m, xticklabels\u001b[38;5;241m=\u001b[39m\u001b[38;5;28msorted\u001b[39m(df[\u001b[38;5;124m'\u001b[39m\u001b[38;5;124mnote\u001b[39m\u001b[38;5;124m'\u001b[39m]\u001b[38;5;241m.\u001b[39munique()), yticklabels\u001b[38;5;241m=\u001b[39m\u001b[38;5;28msorted\u001b[39m(df[\u001b[38;5;124m'\u001b[39m\u001b[38;5;124mnote\u001b[39m\u001b[38;5;124m'\u001b[39m]\u001b[38;5;241m.\u001b[39munique()))\n",
      "File \u001b[1;32m~\\anaconda3\\Lib\\site-packages\\sklearn\\utils\\_param_validation.py:211\u001b[0m, in \u001b[0;36mvalidate_params.<locals>.decorator.<locals>.wrapper\u001b[1;34m(*args, **kwargs)\u001b[0m\n\u001b[0;32m    205\u001b[0m \u001b[38;5;28;01mtry\u001b[39;00m:\n\u001b[0;32m    206\u001b[0m     \u001b[38;5;28;01mwith\u001b[39;00m config_context(\n\u001b[0;32m    207\u001b[0m         skip_parameter_validation\u001b[38;5;241m=\u001b[39m(\n\u001b[0;32m    208\u001b[0m             prefer_skip_nested_validation \u001b[38;5;129;01mor\u001b[39;00m global_skip_validation\n\u001b[0;32m    209\u001b[0m         )\n\u001b[0;32m    210\u001b[0m     ):\n\u001b[1;32m--> 211\u001b[0m         \u001b[38;5;28;01mreturn\u001b[39;00m func(\u001b[38;5;241m*\u001b[39margs, \u001b[38;5;241m*\u001b[39m\u001b[38;5;241m*\u001b[39mkwargs)\n\u001b[0;32m    212\u001b[0m \u001b[38;5;28;01mexcept\u001b[39;00m InvalidParameterError \u001b[38;5;28;01mas\u001b[39;00m e:\n\u001b[0;32m    213\u001b[0m     \u001b[38;5;66;03m# When the function is just a wrapper around an estimator, we allow\u001b[39;00m\n\u001b[0;32m    214\u001b[0m     \u001b[38;5;66;03m# the function to delegate validation to the estimator, but we replace\u001b[39;00m\n\u001b[0;32m    215\u001b[0m     \u001b[38;5;66;03m# the name of the estimator by the name of the function in the error\u001b[39;00m\n\u001b[0;32m    216\u001b[0m     \u001b[38;5;66;03m# message to avoid confusion.\u001b[39;00m\n\u001b[0;32m    217\u001b[0m     msg \u001b[38;5;241m=\u001b[39m re\u001b[38;5;241m.\u001b[39msub(\n\u001b[0;32m    218\u001b[0m         \u001b[38;5;124mr\u001b[39m\u001b[38;5;124m\"\u001b[39m\u001b[38;5;124mparameter of \u001b[39m\u001b[38;5;124m\\\u001b[39m\u001b[38;5;124mw+ must be\u001b[39m\u001b[38;5;124m\"\u001b[39m,\n\u001b[0;32m    219\u001b[0m         \u001b[38;5;124mf\u001b[39m\u001b[38;5;124m\"\u001b[39m\u001b[38;5;124mparameter of \u001b[39m\u001b[38;5;132;01m{\u001b[39;00mfunc\u001b[38;5;241m.\u001b[39m\u001b[38;5;18m__qualname__\u001b[39m\u001b[38;5;132;01m}\u001b[39;00m\u001b[38;5;124m must be\u001b[39m\u001b[38;5;124m\"\u001b[39m,\n\u001b[0;32m    220\u001b[0m         \u001b[38;5;28mstr\u001b[39m(e),\n\u001b[0;32m    221\u001b[0m     )\n",
      "File \u001b[1;32m~\\anaconda3\\Lib\\site-packages\\sklearn\\metrics\\_classification.py:326\u001b[0m, in \u001b[0;36mconfusion_matrix\u001b[1;34m(y_true, y_pred, labels, sample_weight, normalize)\u001b[0m\n\u001b[0;32m    231\u001b[0m \u001b[38;5;129m@validate_params\u001b[39m(\n\u001b[0;32m    232\u001b[0m     {\n\u001b[0;32m    233\u001b[0m         \u001b[38;5;124m\"\u001b[39m\u001b[38;5;124my_true\u001b[39m\u001b[38;5;124m\"\u001b[39m: [\u001b[38;5;124m\"\u001b[39m\u001b[38;5;124marray-like\u001b[39m\u001b[38;5;124m\"\u001b[39m],\n\u001b[1;32m   (...)\u001b[0m\n\u001b[0;32m    242\u001b[0m     y_true, y_pred, \u001b[38;5;241m*\u001b[39m, labels\u001b[38;5;241m=\u001b[39m\u001b[38;5;28;01mNone\u001b[39;00m, sample_weight\u001b[38;5;241m=\u001b[39m\u001b[38;5;28;01mNone\u001b[39;00m, normalize\u001b[38;5;241m=\u001b[39m\u001b[38;5;28;01mNone\u001b[39;00m\n\u001b[0;32m    243\u001b[0m ):\n\u001b[0;32m    244\u001b[0m \u001b[38;5;250m    \u001b[39m\u001b[38;5;124;03m\"\"\"Compute confusion matrix to evaluate the accuracy of a classification.\u001b[39;00m\n\u001b[0;32m    245\u001b[0m \n\u001b[0;32m    246\u001b[0m \u001b[38;5;124;03m    By definition a confusion matrix :math:`C` is such that :math:`C_{i, j}`\u001b[39;00m\n\u001b[1;32m   (...)\u001b[0m\n\u001b[0;32m    324\u001b[0m \u001b[38;5;124;03m    (0, 2, 1, 1)\u001b[39;00m\n\u001b[0;32m    325\u001b[0m \u001b[38;5;124;03m    \"\"\"\u001b[39;00m\n\u001b[1;32m--> 326\u001b[0m     y_type, y_true, y_pred \u001b[38;5;241m=\u001b[39m _check_targets(y_true, y_pred)\n\u001b[0;32m    327\u001b[0m     \u001b[38;5;28;01mif\u001b[39;00m y_type \u001b[38;5;129;01mnot\u001b[39;00m \u001b[38;5;129;01min\u001b[39;00m (\u001b[38;5;124m\"\u001b[39m\u001b[38;5;124mbinary\u001b[39m\u001b[38;5;124m\"\u001b[39m, \u001b[38;5;124m\"\u001b[39m\u001b[38;5;124mmulticlass\u001b[39m\u001b[38;5;124m\"\u001b[39m):\n\u001b[0;32m    328\u001b[0m         \u001b[38;5;28;01mraise\u001b[39;00m \u001b[38;5;167;01mValueError\u001b[39;00m(\u001b[38;5;124m\"\u001b[39m\u001b[38;5;132;01m%s\u001b[39;00m\u001b[38;5;124m is not supported\u001b[39m\u001b[38;5;124m\"\u001b[39m \u001b[38;5;241m%\u001b[39m y_type)\n",
      "File \u001b[1;32m~\\anaconda3\\Lib\\site-packages\\sklearn\\metrics\\_classification.py:84\u001b[0m, in \u001b[0;36m_check_targets\u001b[1;34m(y_true, y_pred)\u001b[0m\n\u001b[0;32m     57\u001b[0m \u001b[38;5;28;01mdef\u001b[39;00m \u001b[38;5;21m_check_targets\u001b[39m(y_true, y_pred):\n\u001b[0;32m     58\u001b[0m \u001b[38;5;250m    \u001b[39m\u001b[38;5;124;03m\"\"\"Check that y_true and y_pred belong to the same classification task.\u001b[39;00m\n\u001b[0;32m     59\u001b[0m \n\u001b[0;32m     60\u001b[0m \u001b[38;5;124;03m    This converts multiclass or binary types to a common shape, and raises a\u001b[39;00m\n\u001b[1;32m   (...)\u001b[0m\n\u001b[0;32m     82\u001b[0m \u001b[38;5;124;03m    y_pred : array or indicator matrix\u001b[39;00m\n\u001b[0;32m     83\u001b[0m \u001b[38;5;124;03m    \"\"\"\u001b[39;00m\n\u001b[1;32m---> 84\u001b[0m     check_consistent_length(y_true, y_pred)\n\u001b[0;32m     85\u001b[0m     type_true \u001b[38;5;241m=\u001b[39m type_of_target(y_true, input_name\u001b[38;5;241m=\u001b[39m\u001b[38;5;124m\"\u001b[39m\u001b[38;5;124my_true\u001b[39m\u001b[38;5;124m\"\u001b[39m)\n\u001b[0;32m     86\u001b[0m     type_pred \u001b[38;5;241m=\u001b[39m type_of_target(y_pred, input_name\u001b[38;5;241m=\u001b[39m\u001b[38;5;124m\"\u001b[39m\u001b[38;5;124my_pred\u001b[39m\u001b[38;5;124m\"\u001b[39m)\n",
      "File \u001b[1;32m~\\anaconda3\\Lib\\site-packages\\sklearn\\utils\\validation.py:409\u001b[0m, in \u001b[0;36mcheck_consistent_length\u001b[1;34m(*arrays)\u001b[0m\n\u001b[0;32m    407\u001b[0m uniques \u001b[38;5;241m=\u001b[39m np\u001b[38;5;241m.\u001b[39munique(lengths)\n\u001b[0;32m    408\u001b[0m \u001b[38;5;28;01mif\u001b[39;00m \u001b[38;5;28mlen\u001b[39m(uniques) \u001b[38;5;241m>\u001b[39m \u001b[38;5;241m1\u001b[39m:\n\u001b[1;32m--> 409\u001b[0m     \u001b[38;5;28;01mraise\u001b[39;00m \u001b[38;5;167;01mValueError\u001b[39;00m(\n\u001b[0;32m    410\u001b[0m         \u001b[38;5;124m\"\u001b[39m\u001b[38;5;124mFound input variables with inconsistent numbers of samples: \u001b[39m\u001b[38;5;132;01m%r\u001b[39;00m\u001b[38;5;124m\"\u001b[39m\n\u001b[0;32m    411\u001b[0m         \u001b[38;5;241m%\u001b[39m [\u001b[38;5;28mint\u001b[39m(l) \u001b[38;5;28;01mfor\u001b[39;00m l \u001b[38;5;129;01min\u001b[39;00m lengths]\n\u001b[0;32m    412\u001b[0m     )\n",
      "\u001b[1;31mValueError\u001b[0m: Found input variables with inconsistent numbers of samples: [4701, 4702]"
     ]
    }
   ],
   "source": [
    "\n",
    "cm = confusion_matrix(y_test, y_pred_labels)\n",
    "\n",
    "\n",
    "plt.figure(figsize=(8, 6))\n",
    "sns.heatmap(cm, annot=True, fmt='d', cmap='Blues', xticklabels=sorted(df['note'].unique()), yticklabels=sorted(df['note'].unique()))\n",
    "plt.title('Confusion Matrix')\n",
    "plt.xlabel('Predicted')\n",
    "plt.ylabel('True')\n",
    "plt.show()"
   ]
  },
  {
   "cell_type": "markdown",
   "id": "4b15c005",
   "metadata": {},
   "source": [
    "# USE"
   ]
  },
  {
   "cell_type": "code",
   "execution_count": 36,
   "id": "e634aa5d",
   "metadata": {},
   "outputs": [
    {
     "name": "stderr",
     "output_type": "stream",
     "text": [
      "WARNING:absl:`lr` is deprecated in Keras optimizer, please use `learning_rate` or use the legacy optimizer, e.g.,tf.keras.optimizers.legacy.Adam.\n"
     ]
    },
    {
     "name": "stdout",
     "output_type": "stream",
     "text": [
      "Epoch 1/50\n",
      "588/588 [==============================] - ETA: 0s - loss: 1.1668 - accuracy: 0.4921\n",
      "Epoch 1: val_accuracy improved from -inf to 0.50702, saving model to best_model.h5\n",
      "588/588 [==============================] - 1s 2ms/step - loss: 1.1668 - accuracy: 0.4921 - val_loss: 1.1253 - val_accuracy: 0.5070\n",
      "Epoch 2/50\n",
      "110/588 [====>.........................] - ETA: 0s - loss: 1.1015 - accuracy: 0.5185"
     ]
    },
    {
     "name": "stderr",
     "output_type": "stream",
     "text": [
      "C:\\Users\\paulr\\anaconda3\\Lib\\site-packages\\keras\\src\\engine\\training.py:3103: UserWarning: You are saving your model as an HDF5 file via `model.save()`. This file format is considered legacy. We recommend using instead the native Keras format, e.g. `model.save('my_model.keras')`.\n",
      "  saving_api.save_model(\n"
     ]
    },
    {
     "name": "stdout",
     "output_type": "stream",
     "text": [
      "573/588 [============================>.] - ETA: 0s - loss: 1.1021 - accuracy: 0.5157\n",
      "Epoch 2: val_accuracy improved from 0.50702 to 0.51085, saving model to best_model.h5\n",
      "588/588 [==============================] - 1s 2ms/step - loss: 1.1025 - accuracy: 0.5155 - val_loss: 1.1208 - val_accuracy: 0.5108\n",
      "Epoch 3/50\n",
      "550/588 [===========================>..] - ETA: 0s - loss: 1.0830 - accuracy: 0.5240\n",
      "Epoch 3: val_accuracy did not improve from 0.51085\n",
      "588/588 [==============================] - 1s 2ms/step - loss: 1.0831 - accuracy: 0.5244 - val_loss: 1.1286 - val_accuracy: 0.4945\n",
      "Epoch 4/50\n",
      "579/588 [============================>.] - ETA: 0s - loss: 1.0609 - accuracy: 0.5386\n",
      "Epoch 4: val_accuracy did not improve from 0.51085\n",
      "588/588 [==============================] - 1s 2ms/step - loss: 1.0611 - accuracy: 0.5387 - val_loss: 1.1239 - val_accuracy: 0.5081\n",
      "Epoch 5/50\n",
      "571/588 [============================>.] - ETA: 0s - loss: 1.0385 - accuracy: 0.5528\n",
      "Epoch 5: val_accuracy did not improve from 0.51085\n",
      "588/588 [==============================] - 1s 2ms/step - loss: 1.0372 - accuracy: 0.5536 - val_loss: 1.1279 - val_accuracy: 0.5087\n",
      "Epoch 6/50\n",
      "574/588 [============================>.] - ETA: 0s - loss: 1.0078 - accuracy: 0.5691\n",
      "Epoch 6: val_accuracy did not improve from 0.51085\n",
      "588/588 [==============================] - 1s 2ms/step - loss: 1.0073 - accuracy: 0.5697 - val_loss: 1.1381 - val_accuracy: 0.4864\n",
      "Epoch 7/50\n",
      "577/588 [============================>.] - ETA: 0s - loss: 0.9748 - accuracy: 0.5910\n",
      "Epoch 7: val_accuracy did not improve from 0.51085\n",
      "588/588 [==============================] - 1s 2ms/step - loss: 0.9753 - accuracy: 0.5905 - val_loss: 1.1425 - val_accuracy: 0.4913\n",
      "147/147 [==============================] - 0s 804us/step\n",
      "Accuracy: 0.49\n",
      "Classification Report:\n",
      "               precision    recall  f1-score   support\n",
      "\n",
      "         1.0       0.60      0.81      0.69      1441\n",
      "         2.0       0.29      0.16      0.21       691\n",
      "         3.0       0.33      0.11      0.17       665\n",
      "         4.0       0.40      0.33      0.36       979\n",
      "         5.0       0.47      0.69      0.56       926\n",
      "\n",
      "    accuracy                           0.49      4702\n",
      "   macro avg       0.42      0.42      0.40      4702\n",
      "weighted avg       0.45      0.49      0.45      4702\n",
      "\n"
     ]
    }
   ],
   "source": [
    "X_train, X_test, y_train, y_test = train_test_split(\n",
    "    df['avis_clean_en'], df['note'], test_size=0.2, random_state=42\n",
    ")\n",
    "\n",
    "label_encoder = LabelEncoder()\n",
    "y_train_encoded = label_encoder.fit_transform(y_train)\n",
    "y_test_encoded = label_encoder.transform(y_test)\n",
    "\n",
    "use_url = \"https://tfhub.dev/google/universal-sentence-encoder/4\"\n",
    "embed = hub.load(use_url)\n",
    "\n",
    "X_train_embed = embed(X_train)\n",
    "X_test_embed = embed(X_test)\n",
    "\n",
    "model = tf.keras.Sequential([\n",
    "    tf.keras.layers.Input(shape=(512,)), \n",
    "    tf.keras.layers.Dense(256, activation='relu'),\n",
    "    tf.keras.layers.Dense(len(label_encoder.classes_), activation='softmax')\n",
    "])\n",
    "\n",
    "es = EarlyStopping(monitor='val_accuracy', mode='auto', verbose=0, patience=5)\n",
    "mc = ModelCheckpoint('best_model.h5', monitor='val_accuracy', mode='max', verbose=1, save_best_only=True)\n",
    "\n",
    "model.compile(optimizer=tf.keras.optimizers.Adam(lr=0.001), loss='sparse_categorical_crossentropy', metrics=['accuracy'])\n",
    "history = model.fit(X_train_embed, y_train_encoded, epochs=50, validation_data=(X_test_embed, y_test_encoded), callbacks=[es, mc])\n",
    "\n",
    "y_pred_prob = model.predict(X_test_embed)\n",
    "y_pred = y_pred_prob.argmax(axis=-1)\n",
    "y_pred_labels = label_encoder.inverse_transform(y_pred)\n",
    "\n",
    "accuracy = accuracy_score(y_test, y_pred_labels)\n",
    "classification_rep = classification_report(y_test, y_pred_labels)\n",
    "\n",
    "print(f\"Accuracy: {accuracy:.2f}\")\n",
    "print(\"Classification Report:\\n\", classification_rep)\n"
   ]
  },
  {
   "cell_type": "code",
   "execution_count": 37,
   "id": "47811d67",
   "metadata": {},
   "outputs": [
    {
     "data": {
      "image/png": "[encoded data removed]",
      "text/plain": [
       "<Figure size 800x600 with 2 Axes>"
      ]
     },
     "metadata": {},
     "output_type": "display_data"
    }
   ],
   "source": [
    "\n",
    "cm = confusion_matrix(y_test, y_pred_labels)\n",
    "\n",
    "\n",
    "plt.figure(figsize=(8, 6))\n",
    "sns.heatmap(cm, annot=True, fmt='d', cmap='Blues', xticklabels=sorted(df['note'].unique()), yticklabels=sorted(df['note'].unique()))\n",
    "plt.title('Confusion Matrix')\n",
    "plt.xlabel('Predicted')\n",
    "plt.ylabel('True')\n",
    "plt.show()"
   ]
  }
 ],
 "metadata": {
  "kernelspec": {
   "display_name": "Python 3 (ipykernel)",
   "language": "python",
   "name": "python3"
  },
  "language_info": {
   "codemirror_mode": {
    "name": "ipython",
    "version": 3
   },
   "file_extension": ".py",
   "mimetype": "text/x-python",
   "name": "python",
   "nbconvert_exporter": "python",
   "pygments_lexer": "ipython3",
   "version": "3.11.5"
  }
 },
 "nbformat": 4,
 "nbformat_minor": 5
}
